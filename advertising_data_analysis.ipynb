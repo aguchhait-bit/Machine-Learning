{
 "cells": [
  {
   "cell_type": "code",
   "execution_count": 122,
   "metadata": {},
   "outputs": [],
   "source": [
    "import numpy as np\n",
    "import seaborn as sns\n",
    "import matplotlib.pyplot as plt\n",
    "import pandas as pd\n",
    "from scipy.stats import norm"
   ]
  },
  {
   "cell_type": "code",
   "execution_count": 123,
   "metadata": {},
   "outputs": [
    {
     "data": {
      "text/plain": [
       "'E:\\\\Problem_Solve'"
      ]
     },
     "execution_count": 123,
     "metadata": {},
     "output_type": "execute_result"
    }
   ],
   "source": [
    "%pwd"
   ]
  },
  {
   "cell_type": "code",
   "execution_count": 124,
   "metadata": {},
   "outputs": [
    {
     "name": "stdout",
     "output_type": "stream",
     "text": [
      "E:\\Problem_Solve\n"
     ]
    }
   ],
   "source": [
    "%cd \"E:\\\\Problem_Solve\""
   ]
  },
  {
   "cell_type": "code",
   "execution_count": 125,
   "metadata": {},
   "outputs": [],
   "source": [
    "Mover_1 = pd.read_csv(\"E:\\\\Problem_Solve\\\\Movers\\\\Sample_Mover (1).csv\")"
   ]
  },
  {
   "cell_type": "code",
   "execution_count": 126,
   "metadata": {},
   "outputs": [],
   "source": [
    "Mover_2 = pd.read_csv(\"E:\\\\Problem_Solve\\\\Movers\\\\Sample_Mover (2).csv\")"
   ]
  },
  {
   "cell_type": "code",
   "execution_count": 127,
   "metadata": {},
   "outputs": [],
   "source": [
    "Mover_3 = pd.read_csv(\"E:\\\\Problem_Solve\\\\Movers\\\\Sample_Mover (3).csv\")"
   ]
  },
  {
   "cell_type": "code",
   "execution_count": 128,
   "metadata": {},
   "outputs": [],
   "source": [
    "Mover_4 = pd.read_csv(\"E:\\\\Problem_Solve\\\\Movers\\\\Sample_Mover (4).csv\")"
   ]
  },
  {
   "cell_type": "code",
   "execution_count": 129,
   "metadata": {},
   "outputs": [],
   "source": [
    "Nbors = pd.read_csv(\"E:\\\\Problem_Solve\\\\Neighbors\\\\Sample_Neighbor.csv\")"
   ]
  },
  {
   "cell_type": "code",
   "execution_count": 130,
   "metadata": {},
   "outputs": [],
   "source": [
    "cus_1 = pd.read_csv(\"E:\\\\Problem_Solve\\\\PastCustomers\\\\Customer_List (1).csv\")"
   ]
  },
  {
   "cell_type": "code",
   "execution_count": 131,
   "metadata": {},
   "outputs": [],
   "source": [
    "cus_2 = pd.read_csv(\"E:\\\\Problem_Solve\\\\PastCustomers\\\\Customer_List (2).csv\")"
   ]
  },
  {
   "cell_type": "code",
   "execution_count": 132,
   "metadata": {},
   "outputs": [],
   "source": [
    "cus_3 = pd.read_csv(\"E:\\\\Problem_Solve\\\\PastCustomers\\\\Customer_List (3).csv\")"
   ]
  },
  {
   "cell_type": "code",
   "execution_count": 133,
   "metadata": {},
   "outputs": [],
   "source": [
    "cus_4 = pd.read_csv(\"E:\\\\Problem_Solve\\\\PastCustomers\\\\Customer_List (4).csv\")"
   ]
  },
  {
   "cell_type": "code",
   "execution_count": 134,
   "metadata": {},
   "outputs": [],
   "source": [
    "cus_5 = pd.read_csv(\"E:\\\\Problem_Solve\\\\PastCustomers\\\\Customer_List (5).csv\")"
   ]
  },
  {
   "cell_type": "code",
   "execution_count": 135,
   "metadata": {},
   "outputs": [],
   "source": [
    "cus_6 = pd.read_csv(\"E:\\\\Problem_Solve\\\\PastCustomers\\\\Customer_List (6).csv\")"
   ]
  },
  {
   "cell_type": "code",
   "execution_count": 136,
   "metadata": {},
   "outputs": [],
   "source": [
    "cus_7 = pd.read_csv(\"E:\\\\Problem_Solve\\\\PastCustomers\\\\Customer_List (7).csv\")"
   ]
  },
  {
   "cell_type": "code",
   "execution_count": 137,
   "metadata": {},
   "outputs": [],
   "source": [
    "cus_8 = pd.read_csv(\"E:\\\\Problem_Solve\\\\PastCustomers\\\\Customer_List (8).csv\")"
   ]
  },
  {
   "cell_type": "code",
   "execution_count": 138,
   "metadata": {},
   "outputs": [],
   "source": [
    "cus_9 = pd.read_csv(\"E:\\\\Problem_Solve\\\\PastCustomers\\\\Customer_List (9).csv\")"
   ]
  },
  {
   "cell_type": "code",
   "execution_count": 139,
   "metadata": {},
   "outputs": [],
   "source": [
    "frames = [Mover_1,Mover_2,Mover_3,Mover_4,Nbors,cus_1,cus_2,cus_3,cus_4,cus_5,cus_6,cus_7,cus_8,cus_9]"
   ]
  },
  {
   "cell_type": "code",
   "execution_count": 140,
   "metadata": {},
   "outputs": [
    {
     "data": {
      "text/html": [
       "<div>\n",
       "<style scoped>\n",
       "    .dataframe tbody tr th:only-of-type {\n",
       "        vertical-align: middle;\n",
       "    }\n",
       "\n",
       "    .dataframe tbody tr th {\n",
       "        vertical-align: top;\n",
       "    }\n",
       "\n",
       "    .dataframe thead th {\n",
       "        text-align: right;\n",
       "    }\n",
       "</style>\n",
       "<table border=\"1\" class=\"dataframe\">\n",
       "  <thead>\n",
       "    <tr style=\"text-align: right;\">\n",
       "      <th></th>\n",
       "      <th>Address Line</th>\n",
       "      <th>city</th>\n",
       "      <th>state</th>\n",
       "      <th>zip</th>\n",
       "      <th>zip-4</th>\n",
       "    </tr>\n",
       "  </thead>\n",
       "  <tbody>\n",
       "    <tr>\n",
       "      <th>0</th>\n",
       "      <td>158 Tionesta Ridge Ln</td>\n",
       "      <td>Henderson</td>\n",
       "      <td>NV</td>\n",
       "      <td>89012</td>\n",
       "      <td>4425</td>\n",
       "    </tr>\n",
       "    <tr>\n",
       "      <th>1</th>\n",
       "      <td>1867 Desert Forest Way</td>\n",
       "      <td>Henderson</td>\n",
       "      <td>NV</td>\n",
       "      <td>89012</td>\n",
       "      <td>2263</td>\n",
       "    </tr>\n",
       "  </tbody>\n",
       "</table>\n",
       "</div>"
      ],
      "text/plain": [
       "              Address Line       city state    zip  zip-4\n",
       "0   158 Tionesta Ridge Ln   Henderson    NV  89012   4425\n",
       "1  1867 Desert Forest Way   Henderson    NV  89012   2263"
      ]
     },
     "execution_count": 140,
     "metadata": {},
     "output_type": "execute_result"
    }
   ],
   "source": [
    "total_concat = pd.concat(frames)\n",
    "total_concat.rename(columns ={\"address\":'Address Line'}, inplace = True) #Concatenate all  target address data\n",
    "total_concat.head(2)"
   ]
  },
  {
   "cell_type": "code",
   "execution_count": 141,
   "metadata": {},
   "outputs": [],
   "source": [
    "Sample_Sales = pd.read_csv(\"Sample_Sales.csv\")"
   ]
  },
  {
   "cell_type": "code",
   "execution_count": 142,
   "metadata": {},
   "outputs": [
    {
     "data": {
      "text/html": [
       "<div>\n",
       "<style scoped>\n",
       "    .dataframe tbody tr th:only-of-type {\n",
       "        vertical-align: middle;\n",
       "    }\n",
       "\n",
       "    .dataframe tbody tr th {\n",
       "        vertical-align: top;\n",
       "    }\n",
       "\n",
       "    .dataframe thead th {\n",
       "        text-align: right;\n",
       "    }\n",
       "</style>\n",
       "<table border=\"1\" class=\"dataframe\">\n",
       "  <thead>\n",
       "    <tr style=\"text-align: right;\">\n",
       "      <th></th>\n",
       "      <th>Invoice Numbers</th>\n",
       "      <th>Customer Name</th>\n",
       "      <th>Address Line</th>\n",
       "      <th>City</th>\n",
       "      <th>St</th>\n",
       "      <th>Zip Code</th>\n",
       "      <th>Email Address</th>\n",
       "      <th>Product Number</th>\n",
       "      <th>Product Description</th>\n",
       "      <th>Qty</th>\n",
       "      <th>Invoicetotal</th>\n",
       "    </tr>\n",
       "  </thead>\n",
       "  <tbody>\n",
       "    <tr>\n",
       "      <th>0</th>\n",
       "      <td>31507427</td>\n",
       "      <td>AARON HARRIS</td>\n",
       "      <td>8685 VIA NAPOLEONE CIR</td>\n",
       "      <td>LAS VEGAS</td>\n",
       "      <td>NV</td>\n",
       "      <td>89143.0</td>\n",
       "      <td>abharis@gmail.com</td>\n",
       "      <td>SIL-PS-MTXL</td>\n",
       "      <td>SILVER CHIL PS TXL (SEALY-BEK</td>\n",
       "      <td>1.0</td>\n",
       "      <td>4770.94</td>\n",
       "    </tr>\n",
       "    <tr>\n",
       "      <th>1</th>\n",
       "      <td>NaN</td>\n",
       "      <td>NaN</td>\n",
       "      <td>NaN</td>\n",
       "      <td>NaN</td>\n",
       "      <td>NaN</td>\n",
       "      <td>NaN</td>\n",
       "      <td>NaN</td>\n",
       "      <td>SIL-F-MTXL</td>\n",
       "      <td>SILVER CHILL FIRM TXL</td>\n",
       "      <td>1.0</td>\n",
       "      <td>NaN</td>\n",
       "    </tr>\n",
       "    <tr>\n",
       "      <th>2</th>\n",
       "      <td>NaN</td>\n",
       "      <td>NaN</td>\n",
       "      <td>NaN</td>\n",
       "      <td>NaN</td>\n",
       "      <td>NaN</td>\n",
       "      <td>NaN</td>\n",
       "      <td>NaN</td>\n",
       "      <td>MCE</td>\n",
       "      <td>120DAY EXC 20% FEE TO RETURN</td>\n",
       "      <td>1.0</td>\n",
       "      <td>NaN</td>\n",
       "    </tr>\n",
       "  </tbody>\n",
       "</table>\n",
       "</div>"
      ],
      "text/plain": [
       "  Invoice Numbers Customer Name            Address Line       City   St  \\\n",
       "0        31507427  AARON HARRIS  8685 VIA NAPOLEONE CIR  LAS VEGAS   NV   \n",
       "1             NaN           NaN                     NaN        NaN  NaN   \n",
       "2             NaN           NaN                     NaN        NaN  NaN   \n",
       "\n",
       "   Zip Code      Email Address Product Number            Product Description  \\\n",
       "0   89143.0  abharis@gmail.com    SIL-PS-MTXL  SILVER CHIL PS TXL (SEALY-BEK   \n",
       "1       NaN                NaN     SIL-F-MTXL          SILVER CHILL FIRM TXL   \n",
       "2       NaN                NaN            MCE   120DAY EXC 20% FEE TO RETURN   \n",
       "\n",
       "   Qty  Invoicetotal  \n",
       "0  1.0       4770.94  \n",
       "1  1.0           NaN  \n",
       "2  1.0           NaN  "
      ]
     },
     "execution_count": 142,
     "metadata": {},
     "output_type": "execute_result"
    }
   ],
   "source": [
    "Sample_Sales.head(3)"
   ]
  },
  {
   "cell_type": "code",
   "execution_count": 143,
   "metadata": {},
   "outputs": [],
   "source": [
    "merge_data = pd.merge(total_concat,Sample_Sales, on =\"Address Line\", how = 'inner') \n",
    "#Merge data to get address who received address "
   ]
  },
  {
   "cell_type": "code",
   "execution_count": 144,
   "metadata": {},
   "outputs": [
    {
     "data": {
      "text/html": [
       "<div>\n",
       "<style scoped>\n",
       "    .dataframe tbody tr th:only-of-type {\n",
       "        vertical-align: middle;\n",
       "    }\n",
       "\n",
       "    .dataframe tbody tr th {\n",
       "        vertical-align: top;\n",
       "    }\n",
       "\n",
       "    .dataframe thead th {\n",
       "        text-align: right;\n",
       "    }\n",
       "</style>\n",
       "<table border=\"1\" class=\"dataframe\">\n",
       "  <thead>\n",
       "    <tr style=\"text-align: right;\">\n",
       "      <th></th>\n",
       "      <th>Address Line</th>\n",
       "      <th>city</th>\n",
       "      <th>state</th>\n",
       "      <th>zip</th>\n",
       "      <th>zip-4</th>\n",
       "      <th>Invoice Numbers</th>\n",
       "      <th>Customer Name</th>\n",
       "      <th>City</th>\n",
       "      <th>St</th>\n",
       "      <th>Zip Code</th>\n",
       "      <th>Email Address</th>\n",
       "      <th>Product Number</th>\n",
       "      <th>Product Description</th>\n",
       "      <th>Qty</th>\n",
       "      <th>Invoicetotal</th>\n",
       "    </tr>\n",
       "  </thead>\n",
       "  <tbody>\n",
       "    <tr>\n",
       "      <th>0</th>\n",
       "      <td>513 HERITAGE BRIDGE AVE</td>\n",
       "      <td>HENDERSON</td>\n",
       "      <td>NV</td>\n",
       "      <td>89011</td>\n",
       "      <td>2670</td>\n",
       "      <td>30505929</td>\n",
       "      <td>RAY BRANSTETTER</td>\n",
       "      <td>HENDERSON</td>\n",
       "      <td>NV</td>\n",
       "      <td>89011.0</td>\n",
       "      <td>litascoffee@gmail.com</td>\n",
       "      <td>TRU-SCK</td>\n",
       "      <td>TRUST SPLIT CAL KING MATT</td>\n",
       "      <td>1.0</td>\n",
       "      <td>1056.65</td>\n",
       "    </tr>\n",
       "    <tr>\n",
       "      <th>1</th>\n",
       "      <td>513 HERITAGE BRIDGE AVE</td>\n",
       "      <td>HENDERSON</td>\n",
       "      <td>NV</td>\n",
       "      <td>89011</td>\n",
       "      <td>2670</td>\n",
       "      <td>30505929</td>\n",
       "      <td>RAY BRANSTETTER</td>\n",
       "      <td>HENDERSON</td>\n",
       "      <td>NV</td>\n",
       "      <td>89011.0</td>\n",
       "      <td>litascoffee@gmail.com</td>\n",
       "      <td>TRU-SCK</td>\n",
       "      <td>TRUST SPLIT CAL KING MATT</td>\n",
       "      <td>1.0</td>\n",
       "      <td>1056.65</td>\n",
       "    </tr>\n",
       "    <tr>\n",
       "      <th>2</th>\n",
       "      <td>6244 SILVER BANK ST</td>\n",
       "      <td>NORTH LAS VEGAS</td>\n",
       "      <td>NV</td>\n",
       "      <td>89031</td>\n",
       "      <td>4207</td>\n",
       "      <td>31505568</td>\n",
       "      <td>UCHENNA LEWIS</td>\n",
       "      <td>NORTH LAS VEGAS</td>\n",
       "      <td>NV</td>\n",
       "      <td>89031.0</td>\n",
       "      <td>uchenna.lewis@yahoo.com</td>\n",
       "      <td>TRA-PSPT-MQ-FS</td>\n",
       "      <td>FLOOR MODEL TRADITIONAL PS PT</td>\n",
       "      <td>1.0</td>\n",
       "      <td>849.63</td>\n",
       "    </tr>\n",
       "  </tbody>\n",
       "</table>\n",
       "</div>"
      ],
      "text/plain": [
       "              Address Line             city state    zip  zip-4  \\\n",
       "0  513 HERITAGE BRIDGE AVE        HENDERSON    NV  89011   2670   \n",
       "1  513 HERITAGE BRIDGE AVE        HENDERSON    NV  89011   2670   \n",
       "2      6244 SILVER BANK ST  NORTH LAS VEGAS    NV  89031   4207   \n",
       "\n",
       "  Invoice Numbers    Customer Name             City  St  Zip Code  \\\n",
       "0        30505929  RAY BRANSTETTER        HENDERSON  NV   89011.0   \n",
       "1        30505929  RAY BRANSTETTER        HENDERSON  NV   89011.0   \n",
       "2        31505568    UCHENNA LEWIS  NORTH LAS VEGAS  NV   89031.0   \n",
       "\n",
       "             Email Address  Product Number            Product Description  \\\n",
       "0    litascoffee@gmail.com         TRU-SCK      TRUST SPLIT CAL KING MATT   \n",
       "1    litascoffee@gmail.com         TRU-SCK      TRUST SPLIT CAL KING MATT   \n",
       "2  uchenna.lewis@yahoo.com  TRA-PSPT-MQ-FS  FLOOR MODEL TRADITIONAL PS PT   \n",
       "\n",
       "   Qty  Invoicetotal  \n",
       "0  1.0       1056.65  \n",
       "1  1.0       1056.65  \n",
       "2  1.0        849.63  "
      ]
     },
     "execution_count": 144,
     "metadata": {},
     "output_type": "execute_result"
    }
   ],
   "source": [
    "merge_data.head(3)"
   ]
  },
  {
   "cell_type": "code",
   "execution_count": 145,
   "metadata": {},
   "outputs": [
    {
     "name": "stdout",
     "output_type": "stream",
     "text": [
      "             Qty  Invoicetotal\n",
      "count  73.000000     85.000000\n",
      "mean    1.054795   1571.128353\n",
      "std     0.229154   2396.774171\n",
      "min     1.000000  -3896.990000\n",
      "25%     1.000000    162.550000\n",
      "50%     1.000000    910.330000\n",
      "75%     1.000000   2785.190000\n",
      "max     2.000000  10178.180000\n"
     ]
    }
   ],
   "source": [
    "print(merge_data[['Qty','Invoicetotal']].describe())"
   ]
  },
  {
   "cell_type": "code",
   "execution_count": 146,
   "metadata": {},
   "outputs": [
    {
     "name": "stdout",
     "output_type": "stream",
     "text": [
      "               Qty  Invoicetotal\n",
      "count  1204.000000    260.000000\n",
      "mean      1.148671   1278.939885\n",
      "std       0.391501   2097.553344\n",
      "min       1.000000  -3896.990000\n",
      "25%       1.000000      0.000000\n",
      "50%       1.000000    595.505000\n",
      "75%       1.000000   2006.715000\n",
      "max       4.000000  10178.180000\n"
     ]
    }
   ],
   "source": [
    "print(Sample_Sales[['Qty','Invoicetotal']].describe())"
   ]
  },
  {
   "cell_type": "markdown",
   "metadata": {},
   "source": [
    "Question:1. Revenue from Matched Sales"
   ]
  },
  {
   "cell_type": "code",
   "execution_count": 147,
   "metadata": {},
   "outputs": [
    {
     "name": "stdout",
     "output_type": "stream",
     "text": [
      "Revenue from Matched Sale: 133546.0\n"
     ]
    }
   ],
   "source": [
    "Revenue_match=merge_data.Invoicetotal.sum()\n",
    "Revenue_match=Revenue_match.round()\n",
    "print(\"Revenue from Matched Sale:\",Revenue_match)"
   ]
  },
  {
   "cell_type": "markdown",
   "metadata": {},
   "source": [
    "Question:2. Total Revenue"
   ]
  },
  {
   "cell_type": "code",
   "execution_count": 148,
   "metadata": {},
   "outputs": [
    {
     "name": "stdout",
     "output_type": "stream",
     "text": [
      "Total Revenue: 332524.0\n"
     ]
    }
   ],
   "source": [
    "Revenue_total = Sample_Sales.Invoicetotal.sum()\n",
    "Revenue_total=Revenue_total.round()\n",
    "print(\"Total Revenue:\",Revenue_total)"
   ]
  },
  {
   "cell_type": "markdown",
   "metadata": {},
   "source": [
    "Question:3.  Percentage of Total Revenue"
   ]
  },
  {
   "cell_type": "code",
   "execution_count": 149,
   "metadata": {},
   "outputs": [
    {
     "name": "stdout",
     "output_type": "stream",
     "text": [
      "Percentage of Total Revenue: 40.16131166472194\n"
     ]
    }
   ],
   "source": [
    "print(\"Percentage of Total Revenue:\",(Revenue_match/Revenue_total)*100)"
   ]
  },
  {
   "cell_type": "markdown",
   "metadata": {},
   "source": [
    "Question:4. Revenue by Audience Type"
   ]
  },
  {
   "cell_type": "code",
   "execution_count": 150,
   "metadata": {},
   "outputs": [
    {
     "data": {
      "text/plain": [
       "0.0"
      ]
     },
     "execution_count": 150,
     "metadata": {},
     "output_type": "execute_result"
    }
   ],
   "source": [
    "frames_mover = [Mover_1,Mover_2,Mover_3,Mover_4]\n",
    "mover_concat = pd.concat(frames_mover) # Concat by Audience type Movers\n",
    "mover_concat.rename(columns={'address':'Address Line'},inplace = True) \n",
    "merge_mover = pd.merge(Sample_Sales,mover_concat, on =\"Address Line\", how = 'inner') # Joining of sales data with merged data\n",
    "Revenue_mover=merge_mover.Invoicetotal.sum()\n",
    "Revenue_mover=Revenue_mover.round()\n",
    "Revenue_mover"
   ]
  },
  {
   "cell_type": "markdown",
   "metadata": {},
   "source": [
    "Here, we can say that for Movers address maping not usefull"
   ]
  },
  {
   "cell_type": "code",
   "execution_count": 153,
   "metadata": {},
   "outputs": [
    {
     "data": {
      "text/plain": [
       "17790.0"
      ]
     },
     "execution_count": 153,
     "metadata": {},
     "output_type": "execute_result"
    }
   ],
   "source": [
    "Nbors.rename(columns={'address':'Address Line'},inplace = True)\n",
    "merge_Nbors = pd.merge(Nbors,Sample_Sales, on =\"Address Line\", how = 'left')\n",
    "Revenue_Nbors=merge_Nbors.Invoicetotal.sum()\n",
    "Revenue_Nbors=Revenue_Nbors.round()\n",
    "Revenue_Nbors"
   ]
  },
  {
   "cell_type": "markdown",
   "metadata": {},
   "source": [
    "For Neighbors address maping is usefull and it's consists of 13.3% of the revenue of the Matched Sales"
   ]
  },
  {
   "cell_type": "code",
   "execution_count": 154,
   "metadata": {},
   "outputs": [
    {
     "data": {
      "text/plain": [
       "115756.0"
      ]
     },
     "execution_count": 154,
     "metadata": {},
     "output_type": "execute_result"
    }
   ],
   "source": [
    "frames_cus = [cus_1,cus_2,cus_3,cus_4,cus_5,cus_6,cus_7,cus_8,cus_9]\n",
    "cus_concat = pd.concat(frames_cus)\n",
    "cus_concat.rename(columns={'address':'Address Line'},inplace = True)\n",
    "merge_cus = pd.merge(cus_concat,Sample_Sales, on =\"Address Line\", how = 'inner')\n",
    "Revenue_cus=merge_cus.Invoicetotal.sum()\n",
    "Revenue_cus=Revenue_cus.round()\n",
    "Revenue_cus"
   ]
  },
  {
   "cell_type": "markdown",
   "metadata": {},
   "source": [
    "For the Past Customers address maping is very useful and it's consists of 86.7% of the Mtched Sales"
   ]
  },
  {
   "cell_type": "markdown",
   "metadata": {},
   "source": [
    "Question.5: Percentage of Total Revenue by Audience Type"
   ]
  },
  {
   "cell_type": "code",
   "execution_count": 155,
   "metadata": {},
   "outputs": [
    {
     "name": "stdout",
     "output_type": "stream",
     "text": [
      "% Revenue by Past Customer: 35.0\n",
      "% Revenue by Neighbors: 5.0\n",
      "% Revenue by Past Customer: 0.0\n"
     ]
    }
   ],
   "source": [
    "print(\"% Revenue by Past Customer:\", (Revenue_cus/Revenue_total*100).round())\n",
    "print(\"% Revenue by Neighbors:\", (Revenue_Nbors/Revenue_total*100).round())\n",
    "print(\"% Revenue by Past Customer:\", (Revenue_mover/Revenue_total*100).round())"
   ]
  },
  {
   "cell_type": "markdown",
   "metadata": {},
   "source": [
    "Question.6: Number of Matched Customers(Unique Transction)"
   ]
  },
  {
   "cell_type": "code",
   "execution_count": 156,
   "metadata": {},
   "outputs": [
    {
     "data": {
      "text/plain": [
       "61"
      ]
     },
     "execution_count": 156,
     "metadata": {},
     "output_type": "execute_result"
    }
   ],
   "source": [
    "len(merge_data['Customer Name'].unique())"
   ]
  },
  {
   "cell_type": "markdown",
   "metadata": {},
   "source": [
    "It's show that number of unique Customer Name is 61"
   ]
  },
  {
   "cell_type": "markdown",
   "metadata": {},
   "source": [
    "Question.7: Number of Matched Sales (Total Transction)"
   ]
  },
  {
   "cell_type": "code",
   "execution_count": 157,
   "metadata": {},
   "outputs": [
    {
     "data": {
      "text/plain": [
       "85"
      ]
     },
     "execution_count": 157,
     "metadata": {},
     "output_type": "execute_result"
    }
   ],
   "source": [
    "len(merge_data['Invoice Numbers'])"
   ]
  },
  {
   "cell_type": "markdown",
   "metadata": {},
   "source": [
    "It's show that number of match sales is 85"
   ]
  },
  {
   "cell_type": "markdown",
   "metadata": {},
   "source": [
    "Question.8: Total Customers (Unique Transactions)"
   ]
  },
  {
   "cell_type": "code",
   "execution_count": 158,
   "metadata": {},
   "outputs": [
    {
     "data": {
      "text/plain": [
       "170"
      ]
     },
     "execution_count": 158,
     "metadata": {},
     "output_type": "execute_result"
    }
   ],
   "source": [
    "len(Sample_Sales['Customer Name'].unique())"
   ]
  },
  {
   "cell_type": "markdown",
   "metadata": {},
   "source": [
    "Total Customers (Unique Transactions) is 170"
   ]
  },
  {
   "cell_type": "markdown",
   "metadata": {},
   "source": [
    "Question.9: Total Sales (Total Transactions)"
   ]
  },
  {
   "cell_type": "code",
   "execution_count": 159,
   "metadata": {},
   "outputs": [
    {
     "data": {
      "text/plain": [
       "1373"
      ]
     },
     "execution_count": 159,
     "metadata": {},
     "output_type": "execute_result"
    }
   ],
   "source": [
    "len(Sample_Sales['Invoice Numbers'])"
   ]
  },
  {
   "cell_type": "markdown",
   "metadata": {},
   "source": [
    "Total Sales (Total Transactions) is 262"
   ]
  },
  {
   "cell_type": "markdown",
   "metadata": {},
   "source": [
    "Question.10: Percentage of Total Customers"
   ]
  },
  {
   "cell_type": "code",
   "execution_count": 160,
   "metadata": {},
   "outputs": [
    {
     "data": {
      "text/plain": [
       "35.88235294117647"
      ]
     },
     "execution_count": 160,
     "metadata": {},
     "output_type": "execute_result"
    }
   ],
   "source": [
    "(len(merge_data['Customer Name'].unique())/len(Sample_Sales['Customer Name'].unique()))*100"
   ]
  },
  {
   "cell_type": "markdown",
   "metadata": {},
   "source": [
    "So, percentage of Total Customers is 35.9"
   ]
  },
  {
   "cell_type": "markdown",
   "metadata": {},
   "source": [
    "Question.11: Percentage of Total Sales"
   ]
  },
  {
   "cell_type": "code",
   "execution_count": 161,
   "metadata": {},
   "outputs": [
    {
     "data": {
      "text/plain": [
       "6.190823015294974"
      ]
     },
     "execution_count": 161,
     "metadata": {},
     "output_type": "execute_result"
    }
   ],
   "source": [
    "(len(merge_data['Invoice Numbers'])/len(Sample_Sales['Invoice Numbers']))*100"
   ]
  },
  {
   "cell_type": "markdown",
   "metadata": {},
   "source": [
    "So, Percentage of Total Sales is 6.190"
   ]
  },
  {
   "cell_type": "markdown",
   "metadata": {},
   "source": [
    "Question.12: Avg. Transaction Value"
   ]
  },
  {
   "cell_type": "code",
   "execution_count": 162,
   "metadata": {},
   "outputs": [
    {
     "data": {
      "text/plain": [
       "1278.9398846153847"
      ]
     },
     "execution_count": 162,
     "metadata": {},
     "output_type": "execute_result"
    }
   ],
   "source": [
    "Sample_Sales['Invoicetotal'].mean()"
   ]
  },
  {
   "cell_type": "markdown",
   "metadata": {},
   "source": [
    "Avg. Transaction Value is 1278.94"
   ]
  },
  {
   "cell_type": "markdown",
   "metadata": {},
   "source": [
    "Question.13: Avg. Matched Transaction Value"
   ]
  },
  {
   "cell_type": "code",
   "execution_count": 163,
   "metadata": {},
   "outputs": [
    {
     "data": {
      "text/plain": [
       "1571.1283529411764"
      ]
     },
     "execution_count": 163,
     "metadata": {},
     "output_type": "execute_result"
    }
   ],
   "source": [
    "merge_data['Invoicetotal'].mean()"
   ]
  },
  {
   "cell_type": "markdown",
   "metadata": {},
   "source": [
    "Avg. Matched Transaction Value is 1571.12835"
   ]
  },
  {
   "cell_type": "markdown",
   "metadata": {},
   "source": [
    "Question.14: Avg. Transaction Value by Audience Type"
   ]
  },
  {
   "cell_type": "code",
   "execution_count": 164,
   "metadata": {},
   "outputs": [
    {
     "data": {
      "text/plain": [
       "nan"
      ]
     },
     "execution_count": 164,
     "metadata": {},
     "output_type": "execute_result"
    }
   ],
   "source": [
    "frames_mover = [Mover_1,Mover_2,Mover_3,Mover_4]\n",
    "mover_concat = pd.concat(frames_mover)\n",
    "mover_concat.rename(columns={'address':'Address Line'},inplace = True)\n",
    "merge_mover = pd.merge(mover_concat,Sample_Sales, on =\"Address Line\", how = 'left')\n",
    "merge_mover['Invoicetotal'].mean()"
   ]
  },
  {
   "cell_type": "markdown",
   "metadata": {},
   "source": [
    "So, No Avg Transction value for Movers"
   ]
  },
  {
   "cell_type": "code",
   "execution_count": 165,
   "metadata": {},
   "outputs": [
    {
     "data": {
      "text/plain": [
       "2223.73125"
      ]
     },
     "execution_count": 165,
     "metadata": {},
     "output_type": "execute_result"
    }
   ],
   "source": [
    "Nbors.rename(columns={'address':'Address Line'},inplace = True)\n",
    "merge_Nbors = pd.merge(Nbors,Sample_Sales, on =\"Address Line\", how = 'inner')\n",
    "merge_Nbors['Invoicetotal'].mean()"
   ]
  },
  {
   "cell_type": "markdown",
   "metadata": {},
   "source": [
    "Average transction value for Neighbors is 2223.73125"
   ]
  },
  {
   "cell_type": "code",
   "execution_count": 166,
   "metadata": {},
   "outputs": [
    {
     "data": {
      "text/plain": [
       "1503.3254545454545"
      ]
     },
     "execution_count": 166,
     "metadata": {},
     "output_type": "execute_result"
    }
   ],
   "source": [
    "frames_cus = [cus_1,cus_2,cus_3,cus_4,cus_5,cus_6,cus_7,cus_8,cus_9]\n",
    "cus_concat = pd.concat(frames_cus)\n",
    "cus_concat.rename(columns={'address':'Address Line'},inplace = True)\n",
    "merge_cus = pd.merge(cus_concat,Sample_Sales, on =\"Address Line\", how = 'left')\n",
    "merge_cus['Invoicetotal'].mean()"
   ]
  },
  {
   "cell_type": "markdown",
   "metadata": {},
   "source": [
    "Average transction value for Past Customers is 1503.32"
   ]
  },
  {
   "cell_type": "markdown",
   "metadata": {},
   "source": [
    "Question:15. Sales by Product Description"
   ]
  },
  {
   "cell_type": "code",
   "execution_count": 167,
   "metadata": {},
   "outputs": [
    {
     "data": {
      "text/html": [
       "<div>\n",
       "<style scoped>\n",
       "    .dataframe tbody tr th:only-of-type {\n",
       "        vertical-align: middle;\n",
       "    }\n",
       "\n",
       "    .dataframe tbody tr th {\n",
       "        vertical-align: top;\n",
       "    }\n",
       "\n",
       "    .dataframe thead th {\n",
       "        text-align: right;\n",
       "    }\n",
       "</style>\n",
       "<table border=\"1\" class=\"dataframe\">\n",
       "  <thead>\n",
       "    <tr style=\"text-align: right;\">\n",
       "      <th></th>\n",
       "      <th>Product Description</th>\n",
       "      <th>Invoicetotal</th>\n",
       "    </tr>\n",
       "  </thead>\n",
       "  <tbody>\n",
       "    <tr>\n",
       "      <th>0</th>\n",
       "      <td>10 YR ADJUSTABLE BASE WARRANTY</td>\n",
       "      <td>0.00</td>\n",
       "    </tr>\n",
       "    <tr>\n",
       "      <th>1</th>\n",
       "      <td>10YR ADJ BASE WARRANTY X2BASES</td>\n",
       "      <td>0.00</td>\n",
       "    </tr>\n",
       "    <tr>\n",
       "      <th>2</th>\n",
       "      <td>120DAY EXC 20% FEE TO RETURN</td>\n",
       "      <td>0.00</td>\n",
       "    </tr>\n",
       "    <tr>\n",
       "      <th>3</th>\n",
       "      <td>41X60 DUVET&amp;BLANKET GREY/TEAL</td>\n",
       "      <td>0.00</td>\n",
       "    </tr>\n",
       "    <tr>\n",
       "      <th>4</th>\n",
       "      <td>600TC BLEND ASH EASTKING SHEET</td>\n",
       "      <td>0.00</td>\n",
       "    </tr>\n",
       "    <tr>\n",
       "      <th>...</th>\n",
       "      <td>...</td>\n",
       "      <td>...</td>\n",
       "    </tr>\n",
       "    <tr>\n",
       "      <th>280</th>\n",
       "      <td>VILLA PT TWIN (SHER-BT)</td>\n",
       "      <td>184.23</td>\n",
       "    </tr>\n",
       "    <tr>\n",
       "      <th>281</th>\n",
       "      <td>VILLA QUEEN (SHER-BQ)</td>\n",
       "      <td>151.71</td>\n",
       "    </tr>\n",
       "    <tr>\n",
       "      <th>282</th>\n",
       "      <td>VILLA TWIN (SHER-BT)</td>\n",
       "      <td>195.07</td>\n",
       "    </tr>\n",
       "    <tr>\n",
       "      <th>283</th>\n",
       "      <td>WEIGHTED BLANKET 15 POUNDS</td>\n",
       "      <td>0.00</td>\n",
       "    </tr>\n",
       "    <tr>\n",
       "      <th>284</th>\n",
       "      <td>WEIGHTED BLANKET 20 POUNDS</td>\n",
       "      <td>0.00</td>\n",
       "    </tr>\n",
       "  </tbody>\n",
       "</table>\n",
       "<p>285 rows × 2 columns</p>\n",
       "</div>"
      ],
      "text/plain": [
       "                Product Description  Invoicetotal\n",
       "0    10 YR ADJUSTABLE BASE WARRANTY          0.00\n",
       "1    10YR ADJ BASE WARRANTY X2BASES          0.00\n",
       "2      120DAY EXC 20% FEE TO RETURN          0.00\n",
       "3     41X60 DUVET&BLANKET GREY/TEAL          0.00\n",
       "4    600TC BLEND ASH EASTKING SHEET          0.00\n",
       "..                              ...           ...\n",
       "280         VILLA PT TWIN (SHER-BT)        184.23\n",
       "281           VILLA QUEEN (SHER-BQ)        151.71\n",
       "282            VILLA TWIN (SHER-BT)        195.07\n",
       "283      WEIGHTED BLANKET 15 POUNDS          0.00\n",
       "284      WEIGHTED BLANKET 20 POUNDS          0.00\n",
       "\n",
       "[285 rows x 2 columns]"
      ]
     },
     "execution_count": 167,
     "metadata": {},
     "output_type": "execute_result"
    }
   ],
   "source": [
    "Sample_Sales.groupby('Product Description',as_index=False)['Invoicetotal'].sum() \n",
    "# Here we group by Product Description and get the Invoice total of each group"
   ]
  },
  {
   "cell_type": "markdown",
   "metadata": {},
   "source": [
    "Question:16. Matched Sales by Product Description"
   ]
  },
  {
   "cell_type": "code",
   "execution_count": 168,
   "metadata": {},
   "outputs": [
    {
     "name": "stdout",
     "output_type": "stream",
     "text": [
      "Sales by Product Description\n"
     ]
    },
    {
     "data": {
      "text/html": [
       "<div>\n",
       "<style scoped>\n",
       "    .dataframe tbody tr th:only-of-type {\n",
       "        vertical-align: middle;\n",
       "    }\n",
       "\n",
       "    .dataframe tbody tr th {\n",
       "        vertical-align: top;\n",
       "    }\n",
       "\n",
       "    .dataframe thead th {\n",
       "        text-align: right;\n",
       "    }\n",
       "</style>\n",
       "<table border=\"1\" class=\"dataframe\">\n",
       "  <thead>\n",
       "    <tr style=\"text-align: right;\">\n",
       "      <th></th>\n",
       "      <th>Product Description</th>\n",
       "      <th>Invoicetotal</th>\n",
       "    </tr>\n",
       "  </thead>\n",
       "  <tbody>\n",
       "    <tr>\n",
       "      <th>0</th>\n",
       "      <td>ADAPT MEDIUM HYBRID FULL (TEMP</td>\n",
       "      <td>3232.42</td>\n",
       "    </tr>\n",
       "    <tr>\n",
       "      <th>1</th>\n",
       "      <td>ADAPT MEDIUM HYBRID TXL (TEMP-</td>\n",
       "      <td>6318.95</td>\n",
       "    </tr>\n",
       "    <tr>\n",
       "      <th>2</th>\n",
       "      <td>ADAPT MEDIUM TXL (TEMP-BEK)</td>\n",
       "      <td>2707.20</td>\n",
       "    </tr>\n",
       "    <tr>\n",
       "      <th>3</th>\n",
       "      <td>ADAPT MID COOLING PILLOW QUEEN</td>\n",
       "      <td>0.00</td>\n",
       "    </tr>\n",
       "    <tr>\n",
       "      <th>4</th>\n",
       "      <td>AS-IS NO EXC SILVER CHIL PS EK</td>\n",
       "      <td>1300.50</td>\n",
       "    </tr>\n",
       "    <tr>\n",
       "      <th>5</th>\n",
       "      <td>CAL KING 5 SIDED MATT COVER</td>\n",
       "      <td>151.71</td>\n",
       "    </tr>\n",
       "    <tr>\n",
       "      <th>6</th>\n",
       "      <td>CAL KING 5 SIDED OMNIPHASE CVR</td>\n",
       "      <td>853.38</td>\n",
       "    </tr>\n",
       "    <tr>\n",
       "      <th>7</th>\n",
       "      <td>CASSATT PLUSH QUEEN (SF-BQ)</td>\n",
       "      <td>2342.51</td>\n",
       "    </tr>\n",
       "    <tr>\n",
       "      <th>8</th>\n",
       "      <td>CONFORM 8 MATT N BOX QUEEN</td>\n",
       "      <td>541.86</td>\n",
       "    </tr>\n",
       "    <tr>\n",
       "      <th>9</th>\n",
       "      <td>DOUGH W/ Z-GEL PILLOW QN</td>\n",
       "      <td>86.70</td>\n",
       "    </tr>\n",
       "    <tr>\n",
       "      <th>10</th>\n",
       "      <td>EASE 3.0 QUEEN BASE NO BRACKET</td>\n",
       "      <td>812.80</td>\n",
       "    </tr>\n",
       "    <tr>\n",
       "      <th>11</th>\n",
       "      <td>ERGO 2.0 QUEEN BASE</td>\n",
       "      <td>1408.86</td>\n",
       "    </tr>\n",
       "    <tr>\n",
       "      <th>12</th>\n",
       "      <td>EXUBERANT FIRM QUEEN (SEALY-BQ</td>\n",
       "      <td>1300.49</td>\n",
       "    </tr>\n",
       "    <tr>\n",
       "      <th>13</th>\n",
       "      <td>FLOOR MODEL ROCKWELL PT QN(SF-</td>\n",
       "      <td>1127.07</td>\n",
       "    </tr>\n",
       "    <tr>\n",
       "      <th>14</th>\n",
       "      <td>FLOOR MODEL TRADITIONAL PS PT</td>\n",
       "      <td>849.63</td>\n",
       "    </tr>\n",
       "    <tr>\n",
       "      <th>15</th>\n",
       "      <td>FRIO GEL DUAL QN PILLOW</td>\n",
       "      <td>162.55</td>\n",
       "    </tr>\n",
       "    <tr>\n",
       "      <th>16</th>\n",
       "      <td>FUSION 200 PLUSH EASTKING (BLU</td>\n",
       "      <td>2384.24</td>\n",
       "    </tr>\n",
       "    <tr>\n",
       "      <th>17</th>\n",
       "      <td>GARNER PLUSH FULL (SEALY-BF)_</td>\n",
       "      <td>693.58</td>\n",
       "    </tr>\n",
       "    <tr>\n",
       "      <th>18</th>\n",
       "      <td>GARNER PLUSH QUEEN (SEALY-BQ)</td>\n",
       "      <td>433.49</td>\n",
       "    </tr>\n",
       "    <tr>\n",
       "      <th>19</th>\n",
       "      <td>GARNER PLUSH TWIN (SEALY-BT)</td>\n",
       "      <td>541.88</td>\n",
       "    </tr>\n",
       "    <tr>\n",
       "      <th>20</th>\n",
       "      <td>HURSTON LUX FIRM QUEEN(SF2BQ)</td>\n",
       "      <td>3803.92</td>\n",
       "    </tr>\n",
       "    <tr>\n",
       "      <th>21</th>\n",
       "      <td>HURSTON PT EASTKING(SF2-BEK)</td>\n",
       "      <td>9278.36</td>\n",
       "    </tr>\n",
       "    <tr>\n",
       "      <th>22</th>\n",
       "      <td>KELBURN EAST KING (SEALY-BEK)</td>\n",
       "      <td>1842.36</td>\n",
       "    </tr>\n",
       "    <tr>\n",
       "      <th>23</th>\n",
       "      <td>KELBURN QUEEN (SEALY-BQ)</td>\n",
       "      <td>2118.20</td>\n",
       "    </tr>\n",
       "    <tr>\n",
       "      <th>24</th>\n",
       "      <td>LUX ADAPT FIRM CAL KING</td>\n",
       "      <td>9320.26</td>\n",
       "    </tr>\n",
       "    <tr>\n",
       "      <th>25</th>\n",
       "      <td>LUX ADAPT SOFT EASTKING</td>\n",
       "      <td>20517.47</td>\n",
       "    </tr>\n",
       "    <tr>\n",
       "      <th>26</th>\n",
       "      <td>LUX BRZ SOFT TXL</td>\n",
       "      <td>10178.18</td>\n",
       "    </tr>\n",
       "    <tr>\n",
       "      <th>27</th>\n",
       "      <td>MAPLE FIRM FULL (SEALY-BF)</td>\n",
       "      <td>986.19</td>\n",
       "    </tr>\n",
       "    <tr>\n",
       "      <th>28</th>\n",
       "      <td>OCEAN VIEW FIRM QUEEN (SHER-BQ</td>\n",
       "      <td>552.69</td>\n",
       "    </tr>\n",
       "    <tr>\n",
       "      <th>29</th>\n",
       "      <td>OCEAN VIEW PS QUEEN (SHER-BQ</td>\n",
       "      <td>617.72</td>\n",
       "    </tr>\n",
       "    <tr>\n",
       "      <th>30</th>\n",
       "      <td>OCEAN VIEW PT CALKING (SHER-BC</td>\n",
       "      <td>910.33</td>\n",
       "    </tr>\n",
       "    <tr>\n",
       "      <th>31</th>\n",
       "      <td>OCEAN VIEW PT QUEEN (SHER-BQ)</td>\n",
       "      <td>921.14</td>\n",
       "    </tr>\n",
       "    <tr>\n",
       "      <th>32</th>\n",
       "      <td>PROADAPT FIRM EASTKING (TEMP-B</td>\n",
       "      <td>3901.49</td>\n",
       "    </tr>\n",
       "    <tr>\n",
       "      <th>33</th>\n",
       "      <td>PROADAPT MED HYBRID CALKING(TE</td>\n",
       "      <td>-3680.49</td>\n",
       "    </tr>\n",
       "    <tr>\n",
       "      <th>34</th>\n",
       "      <td>PROADAPT MED HYBRID EASTKING(T</td>\n",
       "      <td>-3193.38</td>\n",
       "    </tr>\n",
       "    <tr>\n",
       "      <th>35</th>\n",
       "      <td>PROADAPT MED HYBRID QN (TEMP-B</td>\n",
       "      <td>2936.93</td>\n",
       "    </tr>\n",
       "    <tr>\n",
       "      <th>36</th>\n",
       "      <td>PROADAPT MEDIUM CALKING (TEMP-</td>\n",
       "      <td>4161.58</td>\n",
       "    </tr>\n",
       "    <tr>\n",
       "      <th>37</th>\n",
       "      <td>PROADAPT MEDIUM EASTKING (TEMP</td>\n",
       "      <td>-3896.99</td>\n",
       "    </tr>\n",
       "    <tr>\n",
       "      <th>38</th>\n",
       "      <td>PROADAPT SOFT CALKING (TEMP-BC</td>\n",
       "      <td>4052.13</td>\n",
       "    </tr>\n",
       "    <tr>\n",
       "      <th>39</th>\n",
       "      <td>PROADAPT SOFT EASTKING (TEMP-B</td>\n",
       "      <td>11485.93</td>\n",
       "    </tr>\n",
       "    <tr>\n",
       "      <th>40</th>\n",
       "      <td>QN BASE HEAD UP WIRED</td>\n",
       "      <td>433.49</td>\n",
       "    </tr>\n",
       "    <tr>\n",
       "      <th>41</th>\n",
       "      <td>RESORT FIRM QUEEN (SHER-BQ)</td>\n",
       "      <td>726.09</td>\n",
       "    </tr>\n",
       "    <tr>\n",
       "      <th>42</th>\n",
       "      <td>RESORT JPT QUEEN (SHER-BQ)</td>\n",
       "      <td>3814.73</td>\n",
       "    </tr>\n",
       "    <tr>\n",
       "      <th>43</th>\n",
       "      <td>SATISFIED FPT CALKING (SEALY-B</td>\n",
       "      <td>2991.11</td>\n",
       "    </tr>\n",
       "    <tr>\n",
       "      <th>44</th>\n",
       "      <td>SILVER CHIL PS QUEEN(SEALY-BQ)</td>\n",
       "      <td>5315.23</td>\n",
       "    </tr>\n",
       "    <tr>\n",
       "      <th>45</th>\n",
       "      <td>SILVER CHILL FIRM QUEEN</td>\n",
       "      <td>3273.99</td>\n",
       "    </tr>\n",
       "    <tr>\n",
       "      <th>46</th>\n",
       "      <td>SLEEP TITE ICE QN PROTE</td>\n",
       "      <td>1484.68</td>\n",
       "    </tr>\n",
       "    <tr>\n",
       "      <th>47</th>\n",
       "      <td>TRUST SPLIT CAL KING MATT</td>\n",
       "      <td>2113.30</td>\n",
       "    </tr>\n",
       "    <tr>\n",
       "      <th>48</th>\n",
       "      <td>TWIN PRIME TERRY MATT PROTECT</td>\n",
       "      <td>75.85</td>\n",
       "    </tr>\n",
       "    <tr>\n",
       "      <th>49</th>\n",
       "      <td>TXL 5 SIDED MATT COVER</td>\n",
       "      <td>97.53</td>\n",
       "    </tr>\n",
       "    <tr>\n",
       "      <th>50</th>\n",
       "      <td>TXL EXTEND BASE NO BRKTS</td>\n",
       "      <td>0.00</td>\n",
       "    </tr>\n",
       "    <tr>\n",
       "      <th>51</th>\n",
       "      <td>TXL TOTAL ENCASE COVER</td>\n",
       "      <td>140.89</td>\n",
       "    </tr>\n",
       "    <tr>\n",
       "      <th>52</th>\n",
       "      <td>UPBEAT FIRM QUEEN (SEALY-BQ</td>\n",
       "      <td>2085.67</td>\n",
       "    </tr>\n",
       "    <tr>\n",
       "      <th>53</th>\n",
       "      <td>VILLA TWIN (SHER-BT)</td>\n",
       "      <td>97.54</td>\n",
       "    </tr>\n",
       "  </tbody>\n",
       "</table>\n",
       "</div>"
      ],
      "text/plain": [
       "               Product Description  Invoicetotal\n",
       "0   ADAPT MEDIUM HYBRID FULL (TEMP       3232.42\n",
       "1   ADAPT MEDIUM HYBRID TXL (TEMP-       6318.95\n",
       "2      ADAPT MEDIUM TXL (TEMP-BEK)       2707.20\n",
       "3   ADAPT MID COOLING PILLOW QUEEN          0.00\n",
       "4   AS-IS NO EXC SILVER CHIL PS EK       1300.50\n",
       "5      CAL KING 5 SIDED MATT COVER        151.71\n",
       "6   CAL KING 5 SIDED OMNIPHASE CVR        853.38\n",
       "7      CASSATT PLUSH QUEEN (SF-BQ)       2342.51\n",
       "8       CONFORM 8 MATT N BOX QUEEN        541.86\n",
       "9         DOUGH W/ Z-GEL PILLOW QN         86.70\n",
       "10  EASE 3.0 QUEEN BASE NO BRACKET        812.80\n",
       "11             ERGO 2.0 QUEEN BASE       1408.86\n",
       "12  EXUBERANT FIRM QUEEN (SEALY-BQ       1300.49\n",
       "13  FLOOR MODEL ROCKWELL PT QN(SF-       1127.07\n",
       "14   FLOOR MODEL TRADITIONAL PS PT        849.63\n",
       "15         FRIO GEL DUAL QN PILLOW        162.55\n",
       "16  FUSION 200 PLUSH EASTKING (BLU       2384.24\n",
       "17   GARNER PLUSH FULL (SEALY-BF)_        693.58\n",
       "18   GARNER PLUSH QUEEN (SEALY-BQ)        433.49\n",
       "19    GARNER PLUSH TWIN (SEALY-BT)        541.88\n",
       "20   HURSTON LUX FIRM QUEEN(SF2BQ)       3803.92\n",
       "21    HURSTON PT EASTKING(SF2-BEK)       9278.36\n",
       "22   KELBURN EAST KING (SEALY-BEK)       1842.36\n",
       "23        KELBURN QUEEN (SEALY-BQ)       2118.20\n",
       "24         LUX ADAPT FIRM CAL KING       9320.26\n",
       "25         LUX ADAPT SOFT EASTKING      20517.47\n",
       "26                LUX BRZ SOFT TXL      10178.18\n",
       "27      MAPLE FIRM FULL (SEALY-BF)        986.19\n",
       "28  OCEAN VIEW FIRM QUEEN (SHER-BQ        552.69\n",
       "29    OCEAN VIEW PS QUEEN (SHER-BQ        617.72\n",
       "30  OCEAN VIEW PT CALKING (SHER-BC        910.33\n",
       "31   OCEAN VIEW PT QUEEN (SHER-BQ)        921.14\n",
       "32  PROADAPT FIRM EASTKING (TEMP-B       3901.49\n",
       "33  PROADAPT MED HYBRID CALKING(TE      -3680.49\n",
       "34  PROADAPT MED HYBRID EASTKING(T      -3193.38\n",
       "35  PROADAPT MED HYBRID QN (TEMP-B       2936.93\n",
       "36  PROADAPT MEDIUM CALKING (TEMP-       4161.58\n",
       "37  PROADAPT MEDIUM EASTKING (TEMP      -3896.99\n",
       "38  PROADAPT SOFT CALKING (TEMP-BC       4052.13\n",
       "39  PROADAPT SOFT EASTKING (TEMP-B      11485.93\n",
       "40           QN BASE HEAD UP WIRED        433.49\n",
       "41     RESORT FIRM QUEEN (SHER-BQ)        726.09\n",
       "42      RESORT JPT QUEEN (SHER-BQ)       3814.73\n",
       "43  SATISFIED FPT CALKING (SEALY-B       2991.11\n",
       "44  SILVER CHIL PS QUEEN(SEALY-BQ)       5315.23\n",
       "45         SILVER CHILL FIRM QUEEN       3273.99\n",
       "46         SLEEP TITE ICE QN PROTE       1484.68\n",
       "47       TRUST SPLIT CAL KING MATT       2113.30\n",
       "48   TWIN PRIME TERRY MATT PROTECT         75.85\n",
       "49          TXL 5 SIDED MATT COVER         97.53\n",
       "50        TXL EXTEND BASE NO BRKTS          0.00\n",
       "51          TXL TOTAL ENCASE COVER        140.89\n",
       "52     UPBEAT FIRM QUEEN (SEALY-BQ       2085.67\n",
       "53            VILLA TWIN (SHER-BT)         97.54"
      ]
     },
     "execution_count": 168,
     "metadata": {},
     "output_type": "execute_result"
    }
   ],
   "source": [
    "print(\"Sales by Product Description\")\n",
    "merge_data.groupby('Product Description',as_index=False)['Invoicetotal'].sum()"
   ]
  },
  {
   "cell_type": "markdown",
   "metadata": {},
   "source": [
    "Question:17. Matched Sales by Product Description by Audience Type"
   ]
  },
  {
   "cell_type": "code",
   "execution_count": 169,
   "metadata": {},
   "outputs": [
    {
     "data": {
      "text/html": [
       "<div>\n",
       "<style scoped>\n",
       "    .dataframe tbody tr th:only-of-type {\n",
       "        vertical-align: middle;\n",
       "    }\n",
       "\n",
       "    .dataframe tbody tr th {\n",
       "        vertical-align: top;\n",
       "    }\n",
       "\n",
       "    .dataframe thead th {\n",
       "        text-align: right;\n",
       "    }\n",
       "</style>\n",
       "<table border=\"1\" class=\"dataframe\">\n",
       "  <thead>\n",
       "    <tr style=\"text-align: right;\">\n",
       "      <th></th>\n",
       "      <th>Product Description</th>\n",
       "      <th>Invoicetotal</th>\n",
       "    </tr>\n",
       "  </thead>\n",
       "  <tbody>\n",
       "  </tbody>\n",
       "</table>\n",
       "</div>"
      ],
      "text/plain": [
       "Empty DataFrame\n",
       "Columns: [Product Description, Invoicetotal]\n",
       "Index: []"
      ]
     },
     "execution_count": 169,
     "metadata": {},
     "output_type": "execute_result"
    }
   ],
   "source": [
    "merge_mover.groupby(['Product Description',],as_index=False)['Invoicetotal'].sum()\n",
    "# For Movers there is no such Product"
   ]
  },
  {
   "cell_type": "code",
   "execution_count": 170,
   "metadata": {},
   "outputs": [
    {
     "data": {
      "text/html": [
       "<div>\n",
       "<style scoped>\n",
       "    .dataframe tbody tr th:only-of-type {\n",
       "        vertical-align: middle;\n",
       "    }\n",
       "\n",
       "    .dataframe tbody tr th {\n",
       "        vertical-align: top;\n",
       "    }\n",
       "\n",
       "    .dataframe thead th {\n",
       "        text-align: right;\n",
       "    }\n",
       "</style>\n",
       "<table border=\"1\" class=\"dataframe\">\n",
       "  <thead>\n",
       "    <tr style=\"text-align: right;\">\n",
       "      <th></th>\n",
       "      <th>Product Description</th>\n",
       "      <th>Invoicetotal</th>\n",
       "    </tr>\n",
       "  </thead>\n",
       "  <tbody>\n",
       "    <tr>\n",
       "      <th>0</th>\n",
       "      <td>FLOOR MODEL TRADITIONAL PS PT</td>\n",
       "      <td>849.63</td>\n",
       "    </tr>\n",
       "    <tr>\n",
       "      <th>1</th>\n",
       "      <td>HURSTON PT EASTKING(SF2-BEK)</td>\n",
       "      <td>4639.18</td>\n",
       "    </tr>\n",
       "    <tr>\n",
       "      <th>2</th>\n",
       "      <td>LUX ADAPT FIRM CAL KING</td>\n",
       "      <td>4660.13</td>\n",
       "    </tr>\n",
       "    <tr>\n",
       "      <th>3</th>\n",
       "      <td>LUX ADAPT SOFT EASTKING</td>\n",
       "      <td>6156.41</td>\n",
       "    </tr>\n",
       "    <tr>\n",
       "      <th>4</th>\n",
       "      <td>TRUST SPLIT CAL KING MATT</td>\n",
       "      <td>1056.65</td>\n",
       "    </tr>\n",
       "    <tr>\n",
       "      <th>5</th>\n",
       "      <td>TXL 5 SIDED MATT COVER</td>\n",
       "      <td>97.53</td>\n",
       "    </tr>\n",
       "  </tbody>\n",
       "</table>\n",
       "</div>"
      ],
      "text/plain": [
       "             Product Description  Invoicetotal\n",
       "0  FLOOR MODEL TRADITIONAL PS PT        849.63\n",
       "1   HURSTON PT EASTKING(SF2-BEK)       4639.18\n",
       "2        LUX ADAPT FIRM CAL KING       4660.13\n",
       "3        LUX ADAPT SOFT EASTKING       6156.41\n",
       "4      TRUST SPLIT CAL KING MATT       1056.65\n",
       "5         TXL 5 SIDED MATT COVER         97.53"
      ]
     },
     "execution_count": 170,
     "metadata": {},
     "output_type": "execute_result"
    }
   ],
   "source": [
    "merge_Nbors.groupby(['Product Description',],as_index=False)['Invoicetotal'].sum()\n",
    "# For Neighbors grouped by Product Description"
   ]
  },
  {
   "cell_type": "code",
   "execution_count": 171,
   "metadata": {
    "scrolled": true
   },
   "outputs": [
    {
     "data": {
      "text/html": [
       "<div>\n",
       "<style scoped>\n",
       "    .dataframe tbody tr th:only-of-type {\n",
       "        vertical-align: middle;\n",
       "    }\n",
       "\n",
       "    .dataframe tbody tr th {\n",
       "        vertical-align: top;\n",
       "    }\n",
       "\n",
       "    .dataframe thead th {\n",
       "        text-align: right;\n",
       "    }\n",
       "</style>\n",
       "<table border=\"1\" class=\"dataframe\">\n",
       "  <thead>\n",
       "    <tr style=\"text-align: right;\">\n",
       "      <th></th>\n",
       "      <th>Product Description</th>\n",
       "      <th>Invoicetotal</th>\n",
       "    </tr>\n",
       "  </thead>\n",
       "  <tbody>\n",
       "    <tr>\n",
       "      <th>0</th>\n",
       "      <td>ADAPT MEDIUM HYBRID FULL (TEMP</td>\n",
       "      <td>3232.42</td>\n",
       "    </tr>\n",
       "    <tr>\n",
       "      <th>1</th>\n",
       "      <td>ADAPT MEDIUM HYBRID TXL (TEMP-</td>\n",
       "      <td>6318.95</td>\n",
       "    </tr>\n",
       "    <tr>\n",
       "      <th>2</th>\n",
       "      <td>ADAPT MEDIUM TXL (TEMP-BEK)</td>\n",
       "      <td>2707.20</td>\n",
       "    </tr>\n",
       "    <tr>\n",
       "      <th>3</th>\n",
       "      <td>ADAPT MID COOLING PILLOW QUEEN</td>\n",
       "      <td>0.00</td>\n",
       "    </tr>\n",
       "    <tr>\n",
       "      <th>4</th>\n",
       "      <td>AS-IS NO EXC SILVER CHIL PS EK</td>\n",
       "      <td>1300.50</td>\n",
       "    </tr>\n",
       "    <tr>\n",
       "      <th>5</th>\n",
       "      <td>CAL KING 5 SIDED MATT COVER</td>\n",
       "      <td>151.71</td>\n",
       "    </tr>\n",
       "    <tr>\n",
       "      <th>6</th>\n",
       "      <td>CAL KING 5 SIDED OMNIPHASE CVR</td>\n",
       "      <td>853.38</td>\n",
       "    </tr>\n",
       "    <tr>\n",
       "      <th>7</th>\n",
       "      <td>CASSATT PLUSH QUEEN (SF-BQ)</td>\n",
       "      <td>2342.51</td>\n",
       "    </tr>\n",
       "    <tr>\n",
       "      <th>8</th>\n",
       "      <td>CONFORM 8 MATT N BOX QUEEN</td>\n",
       "      <td>541.86</td>\n",
       "    </tr>\n",
       "    <tr>\n",
       "      <th>9</th>\n",
       "      <td>DOUGH W/ Z-GEL PILLOW QN</td>\n",
       "      <td>86.70</td>\n",
       "    </tr>\n",
       "    <tr>\n",
       "      <th>10</th>\n",
       "      <td>EASE 3.0 QUEEN BASE NO BRACKET</td>\n",
       "      <td>812.80</td>\n",
       "    </tr>\n",
       "    <tr>\n",
       "      <th>11</th>\n",
       "      <td>ERGO 2.0 QUEEN BASE</td>\n",
       "      <td>1408.86</td>\n",
       "    </tr>\n",
       "    <tr>\n",
       "      <th>12</th>\n",
       "      <td>EXUBERANT FIRM QUEEN (SEALY-BQ</td>\n",
       "      <td>1300.49</td>\n",
       "    </tr>\n",
       "    <tr>\n",
       "      <th>13</th>\n",
       "      <td>FLOOR MODEL ROCKWELL PT QN(SF-</td>\n",
       "      <td>1127.07</td>\n",
       "    </tr>\n",
       "    <tr>\n",
       "      <th>14</th>\n",
       "      <td>FRIO GEL DUAL QN PILLOW</td>\n",
       "      <td>162.55</td>\n",
       "    </tr>\n",
       "    <tr>\n",
       "      <th>15</th>\n",
       "      <td>FUSION 200 PLUSH EASTKING (BLU</td>\n",
       "      <td>2384.24</td>\n",
       "    </tr>\n",
       "    <tr>\n",
       "      <th>16</th>\n",
       "      <td>GARNER PLUSH FULL (SEALY-BF)_</td>\n",
       "      <td>693.58</td>\n",
       "    </tr>\n",
       "    <tr>\n",
       "      <th>17</th>\n",
       "      <td>GARNER PLUSH QUEEN (SEALY-BQ)</td>\n",
       "      <td>433.49</td>\n",
       "    </tr>\n",
       "    <tr>\n",
       "      <th>18</th>\n",
       "      <td>GARNER PLUSH TWIN (SEALY-BT)</td>\n",
       "      <td>541.88</td>\n",
       "    </tr>\n",
       "    <tr>\n",
       "      <th>19</th>\n",
       "      <td>HURSTON LUX FIRM QUEEN(SF2BQ)</td>\n",
       "      <td>3803.92</td>\n",
       "    </tr>\n",
       "    <tr>\n",
       "      <th>20</th>\n",
       "      <td>HURSTON PT EASTKING(SF2-BEK)</td>\n",
       "      <td>4639.18</td>\n",
       "    </tr>\n",
       "    <tr>\n",
       "      <th>21</th>\n",
       "      <td>KELBURN EAST KING (SEALY-BEK)</td>\n",
       "      <td>1842.36</td>\n",
       "    </tr>\n",
       "    <tr>\n",
       "      <th>22</th>\n",
       "      <td>KELBURN QUEEN (SEALY-BQ)</td>\n",
       "      <td>2118.20</td>\n",
       "    </tr>\n",
       "    <tr>\n",
       "      <th>23</th>\n",
       "      <td>LUX ADAPT FIRM CAL KING</td>\n",
       "      <td>4660.13</td>\n",
       "    </tr>\n",
       "    <tr>\n",
       "      <th>24</th>\n",
       "      <td>LUX ADAPT SOFT EASTKING</td>\n",
       "      <td>14361.06</td>\n",
       "    </tr>\n",
       "    <tr>\n",
       "      <th>25</th>\n",
       "      <td>LUX BRZ SOFT TXL</td>\n",
       "      <td>10178.18</td>\n",
       "    </tr>\n",
       "    <tr>\n",
       "      <th>26</th>\n",
       "      <td>MAPLE FIRM FULL (SEALY-BF)</td>\n",
       "      <td>986.19</td>\n",
       "    </tr>\n",
       "    <tr>\n",
       "      <th>27</th>\n",
       "      <td>OCEAN VIEW FIRM QUEEN (SHER-BQ</td>\n",
       "      <td>552.69</td>\n",
       "    </tr>\n",
       "    <tr>\n",
       "      <th>28</th>\n",
       "      <td>OCEAN VIEW PS QUEEN (SHER-BQ</td>\n",
       "      <td>617.72</td>\n",
       "    </tr>\n",
       "    <tr>\n",
       "      <th>29</th>\n",
       "      <td>OCEAN VIEW PT CALKING (SHER-BC</td>\n",
       "      <td>910.33</td>\n",
       "    </tr>\n",
       "    <tr>\n",
       "      <th>30</th>\n",
       "      <td>OCEAN VIEW PT QUEEN (SHER-BQ)</td>\n",
       "      <td>921.14</td>\n",
       "    </tr>\n",
       "    <tr>\n",
       "      <th>31</th>\n",
       "      <td>PROADAPT FIRM EASTKING (TEMP-B</td>\n",
       "      <td>3901.49</td>\n",
       "    </tr>\n",
       "    <tr>\n",
       "      <th>32</th>\n",
       "      <td>PROADAPT MED HYBRID CALKING(TE</td>\n",
       "      <td>-3680.49</td>\n",
       "    </tr>\n",
       "    <tr>\n",
       "      <th>33</th>\n",
       "      <td>PROADAPT MED HYBRID EASTKING(T</td>\n",
       "      <td>-3193.38</td>\n",
       "    </tr>\n",
       "    <tr>\n",
       "      <th>34</th>\n",
       "      <td>PROADAPT MED HYBRID QN (TEMP-B</td>\n",
       "      <td>2936.93</td>\n",
       "    </tr>\n",
       "    <tr>\n",
       "      <th>35</th>\n",
       "      <td>PROADAPT MEDIUM CALKING (TEMP-</td>\n",
       "      <td>4161.58</td>\n",
       "    </tr>\n",
       "    <tr>\n",
       "      <th>36</th>\n",
       "      <td>PROADAPT MEDIUM EASTKING (TEMP</td>\n",
       "      <td>-3896.99</td>\n",
       "    </tr>\n",
       "    <tr>\n",
       "      <th>37</th>\n",
       "      <td>PROADAPT SOFT CALKING (TEMP-BC</td>\n",
       "      <td>4052.13</td>\n",
       "    </tr>\n",
       "    <tr>\n",
       "      <th>38</th>\n",
       "      <td>PROADAPT SOFT EASTKING (TEMP-B</td>\n",
       "      <td>11485.93</td>\n",
       "    </tr>\n",
       "    <tr>\n",
       "      <th>39</th>\n",
       "      <td>QN BASE HEAD UP WIRED</td>\n",
       "      <td>433.49</td>\n",
       "    </tr>\n",
       "    <tr>\n",
       "      <th>40</th>\n",
       "      <td>RESORT FIRM QUEEN (SHER-BQ)</td>\n",
       "      <td>726.09</td>\n",
       "    </tr>\n",
       "    <tr>\n",
       "      <th>41</th>\n",
       "      <td>RESORT JPT QUEEN (SHER-BQ)</td>\n",
       "      <td>3814.73</td>\n",
       "    </tr>\n",
       "    <tr>\n",
       "      <th>42</th>\n",
       "      <td>SATISFIED FPT CALKING (SEALY-B</td>\n",
       "      <td>2991.11</td>\n",
       "    </tr>\n",
       "    <tr>\n",
       "      <th>43</th>\n",
       "      <td>SILVER CHIL PS QUEEN(SEALY-BQ)</td>\n",
       "      <td>5315.23</td>\n",
       "    </tr>\n",
       "    <tr>\n",
       "      <th>44</th>\n",
       "      <td>SILVER CHILL FIRM QUEEN</td>\n",
       "      <td>3273.99</td>\n",
       "    </tr>\n",
       "    <tr>\n",
       "      <th>45</th>\n",
       "      <td>SLEEP TITE ICE QN PROTE</td>\n",
       "      <td>1484.68</td>\n",
       "    </tr>\n",
       "    <tr>\n",
       "      <th>46</th>\n",
       "      <td>TRUST SPLIT CAL KING MATT</td>\n",
       "      <td>1056.65</td>\n",
       "    </tr>\n",
       "    <tr>\n",
       "      <th>47</th>\n",
       "      <td>TWIN PRIME TERRY MATT PROTECT</td>\n",
       "      <td>75.85</td>\n",
       "    </tr>\n",
       "    <tr>\n",
       "      <th>48</th>\n",
       "      <td>TXL EXTEND BASE NO BRKTS</td>\n",
       "      <td>0.00</td>\n",
       "    </tr>\n",
       "    <tr>\n",
       "      <th>49</th>\n",
       "      <td>TXL TOTAL ENCASE COVER</td>\n",
       "      <td>140.89</td>\n",
       "    </tr>\n",
       "    <tr>\n",
       "      <th>50</th>\n",
       "      <td>UPBEAT FIRM QUEEN (SEALY-BQ</td>\n",
       "      <td>2085.67</td>\n",
       "    </tr>\n",
       "    <tr>\n",
       "      <th>51</th>\n",
       "      <td>VILLA TWIN (SHER-BT)</td>\n",
       "      <td>97.54</td>\n",
       "    </tr>\n",
       "  </tbody>\n",
       "</table>\n",
       "</div>"
      ],
      "text/plain": [
       "               Product Description  Invoicetotal\n",
       "0   ADAPT MEDIUM HYBRID FULL (TEMP       3232.42\n",
       "1   ADAPT MEDIUM HYBRID TXL (TEMP-       6318.95\n",
       "2      ADAPT MEDIUM TXL (TEMP-BEK)       2707.20\n",
       "3   ADAPT MID COOLING PILLOW QUEEN          0.00\n",
       "4   AS-IS NO EXC SILVER CHIL PS EK       1300.50\n",
       "5      CAL KING 5 SIDED MATT COVER        151.71\n",
       "6   CAL KING 5 SIDED OMNIPHASE CVR        853.38\n",
       "7      CASSATT PLUSH QUEEN (SF-BQ)       2342.51\n",
       "8       CONFORM 8 MATT N BOX QUEEN        541.86\n",
       "9         DOUGH W/ Z-GEL PILLOW QN         86.70\n",
       "10  EASE 3.0 QUEEN BASE NO BRACKET        812.80\n",
       "11             ERGO 2.0 QUEEN BASE       1408.86\n",
       "12  EXUBERANT FIRM QUEEN (SEALY-BQ       1300.49\n",
       "13  FLOOR MODEL ROCKWELL PT QN(SF-       1127.07\n",
       "14         FRIO GEL DUAL QN PILLOW        162.55\n",
       "15  FUSION 200 PLUSH EASTKING (BLU       2384.24\n",
       "16   GARNER PLUSH FULL (SEALY-BF)_        693.58\n",
       "17   GARNER PLUSH QUEEN (SEALY-BQ)        433.49\n",
       "18    GARNER PLUSH TWIN (SEALY-BT)        541.88\n",
       "19   HURSTON LUX FIRM QUEEN(SF2BQ)       3803.92\n",
       "20    HURSTON PT EASTKING(SF2-BEK)       4639.18\n",
       "21   KELBURN EAST KING (SEALY-BEK)       1842.36\n",
       "22        KELBURN QUEEN (SEALY-BQ)       2118.20\n",
       "23         LUX ADAPT FIRM CAL KING       4660.13\n",
       "24         LUX ADAPT SOFT EASTKING      14361.06\n",
       "25                LUX BRZ SOFT TXL      10178.18\n",
       "26      MAPLE FIRM FULL (SEALY-BF)        986.19\n",
       "27  OCEAN VIEW FIRM QUEEN (SHER-BQ        552.69\n",
       "28    OCEAN VIEW PS QUEEN (SHER-BQ        617.72\n",
       "29  OCEAN VIEW PT CALKING (SHER-BC        910.33\n",
       "30   OCEAN VIEW PT QUEEN (SHER-BQ)        921.14\n",
       "31  PROADAPT FIRM EASTKING (TEMP-B       3901.49\n",
       "32  PROADAPT MED HYBRID CALKING(TE      -3680.49\n",
       "33  PROADAPT MED HYBRID EASTKING(T      -3193.38\n",
       "34  PROADAPT MED HYBRID QN (TEMP-B       2936.93\n",
       "35  PROADAPT MEDIUM CALKING (TEMP-       4161.58\n",
       "36  PROADAPT MEDIUM EASTKING (TEMP      -3896.99\n",
       "37  PROADAPT SOFT CALKING (TEMP-BC       4052.13\n",
       "38  PROADAPT SOFT EASTKING (TEMP-B      11485.93\n",
       "39           QN BASE HEAD UP WIRED        433.49\n",
       "40     RESORT FIRM QUEEN (SHER-BQ)        726.09\n",
       "41      RESORT JPT QUEEN (SHER-BQ)       3814.73\n",
       "42  SATISFIED FPT CALKING (SEALY-B       2991.11\n",
       "43  SILVER CHIL PS QUEEN(SEALY-BQ)       5315.23\n",
       "44         SILVER CHILL FIRM QUEEN       3273.99\n",
       "45         SLEEP TITE ICE QN PROTE       1484.68\n",
       "46       TRUST SPLIT CAL KING MATT       1056.65\n",
       "47   TWIN PRIME TERRY MATT PROTECT         75.85\n",
       "48        TXL EXTEND BASE NO BRKTS          0.00\n",
       "49          TXL TOTAL ENCASE COVER        140.89\n",
       "50     UPBEAT FIRM QUEEN (SEALY-BQ       2085.67\n",
       "51            VILLA TWIN (SHER-BT)         97.54"
      ]
     },
     "execution_count": 171,
     "metadata": {},
     "output_type": "execute_result"
    }
   ],
   "source": [
    "merge_cus.groupby(['Product Description',],as_index=False)['Invoicetotal'].sum()\n",
    "# For Past customers grouped by Product Description"
   ]
  },
  {
   "cell_type": "markdown",
   "metadata": {},
   "source": [
    "Question.18: Is this something that you could Automate?"
   ]
  },
  {
   "cell_type": "markdown",
   "metadata": {},
   "source": [
    "It's possible to automate daily mundane Excel based data tool to aggregate and maipulate CSV file. Some solutions could be:\n",
    "1. Using ODBC databases with python. Python can connect with pyobdc module for NetSuite \n",
    "2. If budget permits, reporting can be done with Power BI tools\n",
    "3. With pandas any unnecessary informations in csv can be removed and then moved to again to csv format for future use\n",
    "4. Using Windows Task Schedule python code can be ran at certain times only which may increase data manipulation time"
   ]
  },
  {
   "cell_type": "markdown",
   "metadata": {},
   "source": [
    "Question.19: Data visulization"
   ]
  },
  {
   "cell_type": "code",
   "execution_count": 172,
   "metadata": {},
   "outputs": [
    {
     "data": {
      "text/plain": [
       "<matplotlib.axes._subplots.AxesSubplot at 0x2254bf6f208>"
      ]
     },
     "execution_count": 172,
     "metadata": {},
     "output_type": "execute_result"
    },
    {
     "data": {
      "image/png": "[encoded data removed]",
      "text/plain": [
       "<Figure size 432x288 with 1 Axes>"
      ]
     },
     "metadata": {
      "needs_background": "light"
     },
     "output_type": "display_data"
    }
   ],
   "source": [
    "sns.boxplot( y= merge_data['Invoicetotal']) "
   ]
  },
  {
   "cell_type": "code",
   "execution_count": 173,
   "metadata": {},
   "outputs": [
    {
     "data": {
      "text/plain": [
       "<matplotlib.axes._subplots.AxesSubplot at 0x22535ab1dc8>"
      ]
     },
     "execution_count": 173,
     "metadata": {},
     "output_type": "execute_result"
    },
    {
     "data": {
      "image/png": "[encoded data removed]",
      "text/plain": [
       "<Figure size 432x288 with 1 Axes>"
      ]
     },
     "metadata": {
      "needs_background": "light"
     },
     "output_type": "display_data"
    }
   ],
   "source": [
    "sns.boxplot( y= Sample_Sales['Invoicetotal'])"
   ]
  },
  {
   "cell_type": "code",
   "execution_count": 174,
   "metadata": {},
   "outputs": [
    {
     "data": {
      "image/png": "[encoded data removed]",
      "text/plain": [
       "<Figure size 432x288 with 1 Axes>"
      ]
     },
     "metadata": {
      "needs_background": "light"
     },
     "output_type": "display_data"
    }
   ],
   "source": [
    "fig = plt.figure()\n",
    "ax = fig.add_axes([0,0,1,1])\n",
    "Transaction_Value = ['Neighbors', 'Past Customers ','Movers']\n",
    "Avgerage_Transaction_Value = [merge_Nbors['Invoicetotal'].mean(),merge_cus['Invoicetotal'].mean(),merge_mover['Invoicetotal'].mean()]\n",
    "ax.bar(Transaction_Value,Avgerage_Transaction_Value)\n",
    "plt.show()"
   ]
  },
  {
   "cell_type": "markdown",
   "metadata": {},
   "source": [
    "Here, We can see that mean value of 'Invoicetotal' increased from 1278.939885 to 1571.128353. i.e., increase of almost 23% for the addresses which received ads from esquireadvertising"
   ]
  },
  {
   "cell_type": "code",
   "execution_count": 175,
   "metadata": {},
   "outputs": [
    {
     "data": {
      "text/plain": [
       "Text(0.5, 0, 'Frequency')"
      ]
     },
     "execution_count": 175,
     "metadata": {},
     "output_type": "execute_result"
    },
    {
     "data": {
      "image/png": "[encoded data removed]",
      "text/plain": [
       "<Figure size 1008x432 with 1 Axes>"
      ]
     },
     "metadata": {
      "needs_background": "light"
     },
     "output_type": "display_data"
    }
   ],
   "source": [
    "plt.figure(figsize=(14,6))\n",
    "plt.title('Comparison of Revenue by Customer Types')\n",
    "sns.lineplot(data = merge_cus['Invoicetotal'],label = 'Invoice of Past Customers ' )\n",
    "sns.lineplot(data =merge_Nbors['Invoicetotal'],label = 'Invoice of Neighbors')\n",
    "sns.lineplot(data =merge_mover['Invoicetotal'],label = 'Invoice of Movers')\n",
    "plt.xlabel(\"Frequency\")"
   ]
  },
  {
   "cell_type": "markdown",
   "metadata": {},
   "source": [
    "Here, It can be say that for Neighbors catagory purchase practice is consistant one and it goes between 0 to 6000. But for Past customers purchase history is very diverse. It's invoice amount goes upto maximum 10000  and can be negative also. Also frequency of Past Customers can goes upto above 350000 but for Neighbors it is marginal."
   ]
  },
  {
   "cell_type": "markdown",
   "metadata": {},
   "source": [
    "              "
   ]
  },
  {
   "cell_type": "markdown",
   "metadata": {},
   "source": [
    "                                 Thank You for your time in revewing my code"
   ]
  },
  {
   "cell_type": "code",
   "execution_count": null,
   "metadata": {},
   "outputs": [],
   "source": []
  }
 ],
 "metadata": {
  "kernelspec": {
   "display_name": "Python 3",
   "language": "python",
   "name": "python3"
  },
  "language_info": {
   "codemirror_mode": {
    "name": "ipython",
    "version": 3
   },
   "file_extension": ".py",
   "mimetype": "text/x-python",
   "name": "python",
   "nbconvert_exporter": "python",
   "pygments_lexer": "ipython3",
   "version": "3.7.6"
  }
 },
 "nbformat": 4,
 "nbformat_minor": 4
}
